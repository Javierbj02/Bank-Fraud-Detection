{
 "cells": [
  {
   "cell_type": "markdown",
   "metadata": {},
   "source": [
    "# Fraud Detection on Bank Payments\n",
    "\n",
    "## 1. Exploratory data Analysis"
   ]
  },
  {
   "cell_type": "code",
   "execution_count": 5,
   "metadata": {},
   "outputs": [],
   "source": [
    "import pandas as pd \n",
    "import numpy as np\n",
    "from imblearn.over_sampling import SMOTE\n",
    "\n",
    "import seaborn as sns\n",
    "import matplotlib.pyplot as plt\n",
    "\n",
    "# sns.net()\n",
    "\n",
    "from sklearn.model_selection import train_test_split\n",
    "from sklearn.metrics import confusion_matrix, classification_report\n",
    "from sklearn.metrics import roc_curve, auc\n",
    "\n",
    "import xgboost as xgb\n",
    "from sklearn.neighbors import KNeighborsClassifier\n",
    "from sklearn.ensemble import RandomForestClassifier\n",
    "from sklearn.ensemble import VotingClassifier"
   ]
  },
  {
   "cell_type": "markdown",
   "metadata": {},
   "source": [
    "### Datos\n",
    "\n",
    "Una vez hemos analizado los datos que tenemos de las transacciones históricas recogidas durante 6 meses (ver analisis.html), destacamos los siguientes resultados:\n",
    "\n",
    "- Estamos ante un conjunto de datos estructurado.\n",
    "- Tenemos como entrada (x) 594 643 datos de compras bancarias (big data).\n",
    "- No tenemos transacciones duplicadas ni con valores perdidos.\n",
    "- La salida (y) es una clasificación binaria: 0 = no fraude, 1 = fraude.\n",
    "- Tenemos un total de 587 443 transacciones etiquetadas como no fraudes, y 7200 etiquetadas como fraudes. Es decir, un 1.2% de los datos son fraudes, lo que quiere decir que estamos ante un conjunto de datos desbalanceado.\n",
    "\n",
    "En cuanto a los datos, tenemos 9 variables independientes y la variable dependiente (fraude no fraude)\n",
    "\n",
    "- Step: Día desde el inicio de la recogida de transacciones (180 días = 6 meses).  Variable numérica discreta que va desde 0 hasta 180.\n",
    "- Customer: Id del cliente. Variable categórica nominal. Tenemos 4 112 clientes diferentes.\n",
    "- Age: Edad categorizada en 7 grupos.\n",
    "    - 0: <= 18\n",
    "    - 1: 19-25\n",
    "    - 2: 26-35\n",
    "    - 3: 36-45\n",
    "    - 4: 46-55\n",
    "    - 5: 56-65\n",
    "    - 6: > 65\n",
    "    - U: Unknown\n",
    "- Gender: Género categorizado en 4 grupos.\n",
    "    - E: Empresa\n",
    "    - F: Female\n",
    "    - M: Male\n",
    "    - U: Unknown\n",
    "- ZipCodeOrigin: Código postal. Variable categórica constante. Todas las muestras tienen el mismo valor.\n",
    "- Merchant: Id comerciante. 50 categorías distintas.\n",
    "- zipMerchant: Código postal del comerciante. Variable categórica constante. Todas las muestras tienen el mismo valor.\n",
    "- Category: Categoría de la compra. 15 categorías distintas de la compra. Por ejemplo: transportes, salud, comida, otros, etc.\n",
    "- Amount: Cantidad de la transacción. Variable numérica continua.\n",
    "- Fraud: 1 = fraude. 0 = No fraude. Variable etiqueta."
   ]
  },
  {
   "cell_type": "code",
   "execution_count": 7,
   "metadata": {},
   "outputs": [
    {
     "data": {
      "text/html": [
       "<div>\n",
       "<style scoped>\n",
       "    .dataframe tbody tr th:only-of-type {\n",
       "        vertical-align: middle;\n",
       "    }\n",
       "\n",
       "    .dataframe tbody tr th {\n",
       "        vertical-align: top;\n",
       "    }\n",
       "\n",
       "    .dataframe thead th {\n",
       "        text-align: right;\n",
       "    }\n",
       "</style>\n",
       "<table border=\"1\" class=\"dataframe\">\n",
       "  <thead>\n",
       "    <tr style=\"text-align: right;\">\n",
       "      <th></th>\n",
       "      <th>step</th>\n",
       "      <th>customer</th>\n",
       "      <th>age</th>\n",
       "      <th>gender</th>\n",
       "      <th>zipcodeOri</th>\n",
       "      <th>merchant</th>\n",
       "      <th>zipMerchant</th>\n",
       "      <th>category</th>\n",
       "      <th>amount</th>\n",
       "      <th>fraud</th>\n",
       "    </tr>\n",
       "  </thead>\n",
       "  <tbody>\n",
       "    <tr>\n",
       "      <th>0</th>\n",
       "      <td>0</td>\n",
       "      <td>'C1093826151'</td>\n",
       "      <td>'4'</td>\n",
       "      <td>'M'</td>\n",
       "      <td>'28007'</td>\n",
       "      <td>'M348934600'</td>\n",
       "      <td>'28007'</td>\n",
       "      <td>'es_transportation'</td>\n",
       "      <td>4.55</td>\n",
       "      <td>0</td>\n",
       "    </tr>\n",
       "    <tr>\n",
       "      <th>1</th>\n",
       "      <td>0</td>\n",
       "      <td>'C352968107'</td>\n",
       "      <td>'2'</td>\n",
       "      <td>'M'</td>\n",
       "      <td>'28007'</td>\n",
       "      <td>'M348934600'</td>\n",
       "      <td>'28007'</td>\n",
       "      <td>'es_transportation'</td>\n",
       "      <td>39.68</td>\n",
       "      <td>0</td>\n",
       "    </tr>\n",
       "    <tr>\n",
       "      <th>2</th>\n",
       "      <td>0</td>\n",
       "      <td>'C2054744914'</td>\n",
       "      <td>'4'</td>\n",
       "      <td>'F'</td>\n",
       "      <td>'28007'</td>\n",
       "      <td>'M1823072687'</td>\n",
       "      <td>'28007'</td>\n",
       "      <td>'es_transportation'</td>\n",
       "      <td>26.89</td>\n",
       "      <td>0</td>\n",
       "    </tr>\n",
       "    <tr>\n",
       "      <th>3</th>\n",
       "      <td>0</td>\n",
       "      <td>'C1760612790'</td>\n",
       "      <td>'3'</td>\n",
       "      <td>'M'</td>\n",
       "      <td>'28007'</td>\n",
       "      <td>'M348934600'</td>\n",
       "      <td>'28007'</td>\n",
       "      <td>'es_transportation'</td>\n",
       "      <td>17.25</td>\n",
       "      <td>0</td>\n",
       "    </tr>\n",
       "    <tr>\n",
       "      <th>4</th>\n",
       "      <td>0</td>\n",
       "      <td>'C757503768'</td>\n",
       "      <td>'5'</td>\n",
       "      <td>'M'</td>\n",
       "      <td>'28007'</td>\n",
       "      <td>'M348934600'</td>\n",
       "      <td>'28007'</td>\n",
       "      <td>'es_transportation'</td>\n",
       "      <td>35.72</td>\n",
       "      <td>0</td>\n",
       "    </tr>\n",
       "  </tbody>\n",
       "</table>\n",
       "</div>"
      ],
      "text/plain": [
       "   step       customer  age gender zipcodeOri       merchant zipMerchant  \\\n",
       "0     0  'C1093826151'  '4'    'M'    '28007'   'M348934600'     '28007'   \n",
       "1     0   'C352968107'  '2'    'M'    '28007'   'M348934600'     '28007'   \n",
       "2     0  'C2054744914'  '4'    'F'    '28007'  'M1823072687'     '28007'   \n",
       "3     0  'C1760612790'  '3'    'M'    '28007'   'M348934600'     '28007'   \n",
       "4     0   'C757503768'  '5'    'M'    '28007'   'M348934600'     '28007'   \n",
       "\n",
       "              category  amount  fraud  \n",
       "0  'es_transportation'    4.55      0  \n",
       "1  'es_transportation'   39.68      0  \n",
       "2  'es_transportation'   26.89      0  \n",
       "3  'es_transportation'   17.25      0  \n",
       "4  'es_transportation'   35.72      0  "
      ]
     },
     "execution_count": 7,
     "metadata": {},
     "output_type": "execute_result"
    }
   ],
   "source": [
    "# Cargar dataset\n",
    "df = pd.read_csv(\"data/raw_data.csv\")\n",
    "df.head()"
   ]
  },
  {
   "cell_type": "markdown",
   "metadata": {},
   "source": [
    "Comprobamos que no tenemos ninguna muestra con valor nulo"
   ]
  },
  {
   "cell_type": "code",
   "execution_count": 8,
   "metadata": {},
   "outputs": [
    {
     "name": "stdout",
     "output_type": "stream",
     "text": [
      "<class 'pandas.core.frame.DataFrame'>\n",
      "RangeIndex: 594643 entries, 0 to 594642\n",
      "Data columns (total 10 columns):\n",
      " #   Column       Non-Null Count   Dtype  \n",
      "---  ------       --------------   -----  \n",
      " 0   step         594643 non-null  int64  \n",
      " 1   customer     594643 non-null  object \n",
      " 2   age          594643 non-null  object \n",
      " 3   gender       594643 non-null  object \n",
      " 4   zipcodeOri   594643 non-null  object \n",
      " 5   merchant     594643 non-null  object \n",
      " 6   zipMerchant  594643 non-null  object \n",
      " 7   category     594643 non-null  object \n",
      " 8   amount       594643 non-null  float64\n",
      " 9   fraud        594643 non-null  int64  \n",
      "dtypes: float64(1), int64(2), object(7)\n",
      "memory usage: 45.4+ MB\n"
     ]
    }
   ],
   "source": [
    "df.info()"
   ]
  },
  {
   "cell_type": "markdown",
   "metadata": {},
   "source": [
    "Sabemos que tenemos los datos muy desbalanceados (como vemos en la gráfica generada). Para balancear los datos, podemos usar técnicas de submuestreo (reducir el número de muestras eliminando aleatoriamente muestras de la clase mayoritaria para igualar el número de muestras de la clase minoritaria ) y sobremuestreo (replicar aleatoriamente muestras de la clase minoritaria para igualar el número de muestras de la clase mayoritaria).\n",
    "\n",
    "Vamos a aplicar una técnica de sobremuestreo denominada SMOTE, con el objetivo de balancear los datos. Con SMOTE, vamos a crear nuevos datos de la clase minoritaria utilizando las instancias vecinas, de modo que las muestras generadas no son copias exactas pero son similares a los datos que tenemos."
   ]
  },
  {
   "cell_type": "code",
   "execution_count": 11,
   "metadata": {},
   "outputs": [
    {
     "data": {
      "image/png": "[encoded data removed]",
      "text/plain": [
       "<Figure size 600x400 with 1 Axes>"
      ]
     },
     "metadata": {},
     "output_type": "display_data"
    }
   ],
   "source": [
    "classes = df['fraud'].value_counts()\n",
    "\n",
    "plt.figure(figsize=(6, 4))\n",
    "plt.bar(classes.index, classes.values, color=['blue', 'orange'])\n",
    "plt.xlabel(\"Clase\")\n",
    "plt.ylabel(\"Número de muestras\")\n",
    "plt.title(\"Distribución de Clases\")\n",
    "plt.xticks([0, 1], [\"No fraude\", \"Fraude\"])\n",
    "plt.show()"
   ]
  },
  {
   "cell_type": "code",
   "execution_count": null,
   "metadata": {},
   "outputs": [
    {
     "data": {
      "image/png": "[encoded data removed]",
      "text/plain": [
       "<Figure size 600x400 with 1 Axes>"
      ]
     },
     "metadata": {},
     "output_type": "display_data"
    }
   ],
   "source": [
    "classes = df['fraud'].value_counts()\n",
    "percentages = df['fraud'].value_counts(normalize=True) * 100\n",
    "\n",
    "plt.figure(figsize=(6, 4))\n",
    "bars = plt.bar(classes.index, classes.values, color=['blue', 'orange'])\n",
    "\n",
    "for bar, count, percent in zip(bars, classes.values, percentages.values):\n",
    "    plt.text(bar.get_x() + bar.get_width()/2, bar.get_height(), \n",
    "             f\"{count} ({percent:.1f}%)\", ha='center', va='bottom', fontsize=12, fontweight='bold')\n",
    "\n",
    "# Etiquetas\n",
    "plt.xlabel(\"Fraudes\")\n",
    "plt.ylabel(\"Número de muestras\")\n",
    "plt.ylim(0, classes.max() * 1.1)\n",
    "plt.title(\"Distribución de Clases\")\n",
    "plt.xticks([0, 1], [\"No Fraude\", \"Fraude\"])\n",
    "\n",
    "plt.show()"
   ]
  }
 ],
 "metadata": {
  "kernelspec": {
   "display_name": "venv",
   "language": "python",
   "name": "python3"
  },
  "language_info": {
   "codemirror_mode": {
    "name": "ipython",
    "version": 3
   },
   "file_extension": ".py",
   "mimetype": "text/x-python",
   "name": "python",
   "nbconvert_exporter": "python",
   "pygments_lexer": "ipython3",
   "version": "3.11.9"
  }
 },
 "nbformat": 4,
 "nbformat_minor": 2
}
